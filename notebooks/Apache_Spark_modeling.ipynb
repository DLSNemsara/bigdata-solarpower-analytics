{
  "nbformat": 4,
  "nbformat_minor": 0,
  "metadata": {
    "colab": {
      "provenance": []
    },
    "kernelspec": {
      "name": "python3",
      "display_name": "Python 3"
    },
    "language_info": {
      "name": "python"
    }
  },
  "cells": [
    {
      "cell_type": "code",
      "source": [
        "pip install pyspark"
      ],
      "metadata": {
        "colab": {
          "base_uri": "https://localhost:8080/"
        },
        "id": "B37rgUHPU_1z",
        "outputId": "5bb53c7b-494c-49be-9994-eaffa11ca57e"
      },
      "execution_count": null,
      "outputs": [
        {
          "output_type": "stream",
          "name": "stdout",
          "text": [
            "Requirement already satisfied: pyspark in /usr/local/lib/python3.11/dist-packages (3.5.5)\n",
            "Requirement already satisfied: py4j==0.10.9.7 in /usr/local/lib/python3.11/dist-packages (from pyspark) (0.10.9.7)\n"
          ]
        }
      ]
    },
    {
      "cell_type": "code",
      "source": [
        "from pyspark.sql import SparkSession\n",
        "from pyspark.sql.functions import col, hour, when\n",
        "\n",
        "spark = SparkSession.builder.appName(\"SolarPowerAnalysis\").getOrCreate()\n",
        "\n",
        "df_spark = spark.read.csv(\"/content/Cleaned_Plant_Data.csv\", header=True, inferSchema=True)\n",
        "\n",
        "df_spark.show(5)\n"
      ],
      "metadata": {
        "colab": {
          "base_uri": "https://localhost:8080/"
        },
        "id": "WevA3xc4VQXT",
        "outputId": "c688f095-8a32-43d0-ec74-03cedc41df76"
      },
      "execution_count": null,
      "outputs": [
        {
          "output_type": "stream",
          "name": "stdout",
          "text": [
            "+-------------------+--------+--------+-----------+-----------+-------------------+------------------+-----------+----+----------------+\n",
            "|          DATE_TIME|DC_POWER|AC_POWER|DAILY_YIELD|TOTAL_YIELD|AMBIENT_TEMPERATURE|MODULE_TEMPERATURE|IRRADIATION|Hour|Power_Efficiency|\n",
            "+-------------------+--------+--------+-----------+-----------+-------------------+------------------+-----------+----+----------------+\n",
            "|2020-05-15 00:00:00|     0.0|     0.0|        0.0|  6259559.0|        25.18431613|        22.8575074|        0.0|   0|             0.0|\n",
            "|2020-05-15 00:00:00|     0.0|     0.0|        0.0|  6183645.0|        25.18431613|        22.8575074|        0.0|   0|             0.0|\n",
            "|2020-05-15 00:00:00|     0.0|     0.0|        0.0|  6987759.0|        25.18431613|        22.8575074|        0.0|   0|             0.0|\n",
            "|2020-05-15 00:00:00|     0.0|     0.0|        0.0|  7602960.0|        25.18431613|        22.8575074|        0.0|   0|             0.0|\n",
            "|2020-05-15 00:00:00|     0.0|     0.0|        0.0|  7158964.0|        25.18431613|        22.8575074|        0.0|   0|             0.0|\n",
            "+-------------------+--------+--------+-----------+-----------+-------------------+------------------+-----------+----+----------------+\n",
            "only showing top 5 rows\n",
            "\n"
          ]
        }
      ]
    },
    {
      "cell_type": "code",
      "source": [
        "# Convert DATE_TIME to a proper timestamp format\n",
        "df_spark = df_spark.withColumn(\"DATE_TIME\", col(\"DATE_TIME\").cast(\"timestamp\"))\n",
        "\n",
        "df_spark = df_spark.withColumn(\n",
        "    \"Power_Efficiency\",\n",
        "    when(col(\"DC_POWER\") > 0, col(\"AC_POWER\") / col(\"DC_POWER\")).otherwise(0)\n",
        ")\n",
        "\n",
        "df_spark.show(5)\n"
      ],
      "metadata": {
        "colab": {
          "base_uri": "https://localhost:8080/"
        },
        "id": "-xsAdOO_4Sq_",
        "outputId": "0969e3a3-623a-4315-dd1c-d4353d87af91"
      },
      "execution_count": null,
      "outputs": [
        {
          "output_type": "stream",
          "name": "stdout",
          "text": [
            "+-------------------+--------+--------+-----------+-----------+-------------------+------------------+-----------+----+----------------+\n",
            "|          DATE_TIME|DC_POWER|AC_POWER|DAILY_YIELD|TOTAL_YIELD|AMBIENT_TEMPERATURE|MODULE_TEMPERATURE|IRRADIATION|Hour|Power_Efficiency|\n",
            "+-------------------+--------+--------+-----------+-----------+-------------------+------------------+-----------+----+----------------+\n",
            "|2020-05-15 00:00:00|     0.0|     0.0|        0.0|  6259559.0|        25.18431613|        22.8575074|        0.0|   0|             0.0|\n",
            "|2020-05-15 00:00:00|     0.0|     0.0|        0.0|  6183645.0|        25.18431613|        22.8575074|        0.0|   0|             0.0|\n",
            "|2020-05-15 00:00:00|     0.0|     0.0|        0.0|  6987759.0|        25.18431613|        22.8575074|        0.0|   0|             0.0|\n",
            "|2020-05-15 00:00:00|     0.0|     0.0|        0.0|  7602960.0|        25.18431613|        22.8575074|        0.0|   0|             0.0|\n",
            "|2020-05-15 00:00:00|     0.0|     0.0|        0.0|  7158964.0|        25.18431613|        22.8575074|        0.0|   0|             0.0|\n",
            "+-------------------+--------+--------+-----------+-----------+-------------------+------------------+-----------+----+----------------+\n",
            "only showing top 5 rows\n",
            "\n"
          ]
        }
      ]
    },
    {
      "cell_type": "markdown",
      "source": [
        "⬆️ Data Transformation (Feature Engineering)\n",
        "To enhance our dataset, we will:\n",
        "\n",
        "\n",
        "1.   Extract the hour from DATE_TIME for time-based analysis.\n",
        "2.   Compute Power Efficiency (AC_POWER / DC_POWER) to measure system performance.\n",
        "\n",
        "\n",
        "\n"
      ],
      "metadata": {
        "id": "3paAHHLA4aOk"
      }
    },
    {
      "cell_type": "markdown",
      "source": [
        "⬇️ Compare Spark Performance with Pandas\n",
        "\n",
        "To see how well Spark handles large datasets compared to Pandas, let's time a basic operation like calculating the average power output."
      ],
      "metadata": {
        "id": "S_WJUSaV5WNj"
      }
    },
    {
      "cell_type": "code",
      "source": [
        "import time\n",
        "\n",
        "start_time = time.time()\n",
        "avg_power_spark = df_spark.selectExpr(\"AVG(DC_POWER) as avg_dc_power\", \"AVG(AC_POWER) as avg_ac_power\").show()\n",
        "spark_time = time.time() - start_time\n",
        "print(f\"Spark Execution Time: {spark_time:.4f} seconds\")\n"
      ],
      "metadata": {
        "colab": {
          "base_uri": "https://localhost:8080/"
        },
        "id": "8ntF1C4f4zvz",
        "outputId": "a9eec1ae-b761-4f4a-af6e-73ca230a80a4"
      },
      "execution_count": null,
      "outputs": [
        {
          "output_type": "stream",
          "name": "stdout",
          "text": [
            "+------------------+-----------------+\n",
            "|      avg_dc_power|     avg_ac_power|\n",
            "+------------------+-----------------+\n",
            "|3147.1774501376362|307.7783754808176|\n",
            "+------------------+-----------------+\n",
            "\n",
            "Spark Execution Time: 3.0677 seconds\n"
          ]
        }
      ]
    },
    {
      "cell_type": "code",
      "source": [
        "import pandas as pd\n",
        "\n",
        "df_pandas = pd.read_csv(\"Cleaned_Plant_Data.csv\")\n",
        "\n",
        "start_time = time.time()\n",
        "avg_power_pandas = df_pandas[[\"DC_POWER\", \"AC_POWER\"]].mean()\n",
        "pandas_time = time.time() - start_time\n",
        "\n",
        "print(f\"Pandas Execution Time: {pandas_time:.4f} seconds\")\n",
        "print(avg_power_pandas)\n"
      ],
      "metadata": {
        "colab": {
          "base_uri": "https://localhost:8080/"
        },
        "id": "4iIFW1cQ48vB",
        "outputId": "80c8a628-5ed9-4051-b6aa-80161ed1fd8b"
      },
      "execution_count": null,
      "outputs": [
        {
          "output_type": "stream",
          "name": "stdout",
          "text": [
            "Pandas Execution Time: 0.0097 seconds\n",
            "DC_POWER    3147.177450\n",
            "AC_POWER     307.778375\n",
            "dtype: float64\n"
          ]
        }
      ]
    },
    {
      "cell_type": "markdown",
      "source": [
        "🔹 What Do These Results Mean?\n",
        "\n",
        "1.Average Power Values Are the Same ✅\n",
        "\n",
        "* Both Spark and Pandas computed:\n",
        " * DC Power ≈ 3147.18\n",
        " * AC Power ≈ 307.78\n",
        "* This confirms that Spark and Pandas give the same results, which is good!\n",
        "2.Performance Comparison (Spark vs. Pandas)\n",
        "\n",
        "* Pandas is much faster (0.0174s) than Spark (3.49s) on this small dataset.\n",
        "* This is expected because:\n",
        " * Pandas runs in-memory on small data.\n",
        " * Spark is optimized for huge datasets (distributed across multiple machines).\n",
        "\n",
        "💡 Conclusion:\n",
        "\n",
        "* Pandas is better for small-scale tasks.\n",
        "* Spark is useful for massive datasets (millions of rows)\n",
        "\n",
        "In our dataset we have 68775 rows, that's why pandas performed well otherwise Pandas would be too slow or run out of memory."
      ],
      "metadata": {
        "id": "FQoAveg06G36"
      }
    },
    {
      "cell_type": "markdown",
      "source": [
        "-------------------------------------------------------------------------------------------------------------"
      ],
      "metadata": {
        "id": "nxMYSEVsbWEp"
      }
    },
    {
      "cell_type": "markdown",
      "source": [
        "**Build a Predictive Model using regression**"
      ],
      "metadata": {
        "id": "8UqGb17Z5f_d"
      }
    },
    {
      "cell_type": "code",
      "source": [
        "!apt-get install openjdk-11-jdk-headless -qq > /dev/null\n",
        "!wget -q https://archive.apache.org/dist/spark/spark-3.3.2/spark-3.3.2-bin-hadoop3.tgz\n",
        "!tar xf spark-3.3.2-bin-hadoop3.tgz\n",
        "!pip install -q findspark\n"
      ],
      "metadata": {
        "id": "5WULWdEr5fAV"
      },
      "execution_count": null,
      "outputs": []
    },
    {
      "cell_type": "code",
      "source": [
        "import os\n",
        "os.environ[\"JAVA_HOME\"] = \"/usr/lib/jvm/java-11-openjdk-amd64\"\n",
        "os.environ[\"SPARK_HOME\"] = \"/content/spark-3.3.2-bin-hadoop3\"\n"
      ],
      "metadata": {
        "id": "JlXHyw_rQPTy"
      },
      "execution_count": null,
      "outputs": []
    },
    {
      "cell_type": "code",
      "source": [
        "spark = SparkSession.builder.appName(\"SolarPowerPrediction\").getOrCreate()\n",
        "\n",
        "df_spark = spark.read.csv(\"Cleaned_Plant_Data.csv\", header=True, inferSchema=True)\n",
        "\n",
        "df_spark.show(5)\n"
      ],
      "metadata": {
        "colab": {
          "base_uri": "https://localhost:8080/"
        },
        "id": "_9zfkywz56hh",
        "outputId": "e60ccb63-bda6-4da6-b61e-83e8f7c25ba3"
      },
      "execution_count": null,
      "outputs": [
        {
          "output_type": "stream",
          "name": "stdout",
          "text": [
            "+-------------------+--------+--------+-----------+-----------+-------------------+------------------+-----------+----+----------------+\n",
            "|          DATE_TIME|DC_POWER|AC_POWER|DAILY_YIELD|TOTAL_YIELD|AMBIENT_TEMPERATURE|MODULE_TEMPERATURE|IRRADIATION|Hour|Power_Efficiency|\n",
            "+-------------------+--------+--------+-----------+-----------+-------------------+------------------+-----------+----+----------------+\n",
            "|2020-05-15 00:00:00|     0.0|     0.0|        0.0|  6259559.0|        25.18431613|        22.8575074|        0.0|   0|             0.0|\n",
            "|2020-05-15 00:00:00|     0.0|     0.0|        0.0|  6183645.0|        25.18431613|        22.8575074|        0.0|   0|             0.0|\n",
            "|2020-05-15 00:00:00|     0.0|     0.0|        0.0|  6987759.0|        25.18431613|        22.8575074|        0.0|   0|             0.0|\n",
            "|2020-05-15 00:00:00|     0.0|     0.0|        0.0|  7602960.0|        25.18431613|        22.8575074|        0.0|   0|             0.0|\n",
            "|2020-05-15 00:00:00|     0.0|     0.0|        0.0|  7158964.0|        25.18431613|        22.8575074|        0.0|   0|             0.0|\n",
            "+-------------------+--------+--------+-----------+-----------+-------------------+------------------+-----------+----+----------------+\n",
            "only showing top 5 rows\n",
            "\n"
          ]
        }
      ]
    },
    {
      "cell_type": "markdown",
      "source": [
        " ⬇️ Check for missing values:"
      ],
      "metadata": {
        "id": "EwKmKO2pZByj"
      }
    },
    {
      "cell_type": "code",
      "source": [
        "from pyspark.sql.functions import col\n",
        "\n",
        "missing_values = {col_name: df_spark.filter(col(col_name).isNull()).count() for col_name in df_spark.columns}\n",
        "print(missing_values)\n"
      ],
      "metadata": {
        "colab": {
          "base_uri": "https://localhost:8080/"
        },
        "id": "o3z0Jq88Qu-R",
        "outputId": "af5d9188-4da5-4f0f-ad4e-93be8b52dd33"
      },
      "execution_count": null,
      "outputs": [
        {
          "output_type": "stream",
          "name": "stdout",
          "text": [
            "{'DATE_TIME': 0, 'DC_POWER': 0, 'AC_POWER': 0, 'DAILY_YIELD': 0, 'TOTAL_YIELD': 0, 'AMBIENT_TEMPERATURE': 0, 'MODULE_TEMPERATURE': 0, 'IRRADIATION': 0, 'Hour': 0, 'Power_Efficiency': 0}\n"
          ]
        }
      ]
    },
    {
      "cell_type": "markdown",
      "source": [
        "⬇️ We'll select relevant features and prepare the data for regression:"
      ],
      "metadata": {
        "id": "jrDvfRyvY7gb"
      }
    },
    {
      "cell_type": "code",
      "source": [
        "from pyspark.ml.feature import VectorAssembler\n",
        "\n",
        "feature_columns = ['DC_POWER', 'AC_POWER', 'DAILY_YIELD', 'TOTAL_YIELD',\n",
        "                   'AMBIENT_TEMPERATURE', 'MODULE_TEMPERATURE', 'IRRADIATION', 'Hour']\n",
        "\n",
        "assembler = VectorAssembler(inputCols=feature_columns, outputCol=\"features\")\n",
        "df_spark = assembler.transform(df_spark)\n",
        "\n",
        "df_spark = df_spark.select(\"features\", \"Power_Efficiency\")\n",
        "\n",
        "train_data, test_data = df_spark.randomSplit([0.8, 0.2], seed=42)\n"
      ],
      "metadata": {
        "id": "dPUS_hDBMrVA"
      },
      "execution_count": null,
      "outputs": []
    },
    {
      "cell_type": "markdown",
      "source": [
        "⬇️ Linear Regression:"
      ],
      "metadata": {
        "id": "v-lzb2X4Yp-9"
      }
    },
    {
      "cell_type": "code",
      "source": [
        "from pyspark.ml.regression import LinearRegression\n",
        "\n",
        "lr = LinearRegression(featuresCol=\"features\", labelCol=\"Power_Efficiency\")\n",
        "\n",
        "lr_model = lr.fit(train_data)\n",
        "\n",
        "predictions = lr_model.transform(test_data)\n",
        "\n",
        "predictions.select(\"features\", \"Power_Efficiency\", \"prediction\").show(5)\n"
      ],
      "metadata": {
        "colab": {
          "base_uri": "https://localhost:8080/"
        },
        "id": "bqfL4qgX6EI7",
        "outputId": "08381d97-9088-4d5c-dc02-2a176c513f65"
      },
      "execution_count": null,
      "outputs": [
        {
          "output_type": "stream",
          "name": "stdout",
          "text": [
            "+--------------------+----------------+--------------------+\n",
            "|            features|Power_Efficiency|          prediction|\n",
            "+--------------------+----------------+--------------------+\n",
            "|(8,[2,3,4,5],[679...|             0.0|0.020136158650829863|\n",
            "|(8,[2,3,4,5],[752...|             0.0| 0.02314743943731616|\n",
            "|(8,[2,3,4,5],[758...|             0.0| 0.02058899860239416|\n",
            "|(8,[2,3,4,5],[774...|             0.0| 0.01961250330676842|\n",
            "|(8,[2,3,4,5],[802...|             0.0| 0.02174510146911228|\n",
            "+--------------------+----------------+--------------------+\n",
            "only showing top 5 rows\n",
            "\n"
          ]
        }
      ]
    },
    {
      "cell_type": "markdown",
      "source": [
        "⬇️ Check performance using RMSE and R²:"
      ],
      "metadata": {
        "id": "yqt9AmW9Y0sT"
      }
    },
    {
      "cell_type": "code",
      "source": [
        "from pyspark.ml.evaluation import RegressionEvaluator\n",
        "\n",
        "evaluator_rmse = RegressionEvaluator(labelCol=\"Power_Efficiency\", metricName=\"rmse\")\n",
        "evaluator_r2 = RegressionEvaluator(labelCol=\"Power_Efficiency\", metricName=\"r2\")\n",
        "\n",
        "rmse = evaluator_rmse.evaluate(predictions)\n",
        "r2 = evaluator_r2.evaluate(predictions)\n",
        "\n",
        "print(f\"Root Mean Squared Error (RMSE): {rmse}\")\n",
        "print(f\"R² Score: {r2}\")\n"
      ],
      "metadata": {
        "colab": {
          "base_uri": "https://localhost:8080/"
        },
        "id": "SMn5hDjA6V6n",
        "outputId": "47470ab8-585e-427d-d601-b7ba11093bf3"
      },
      "execution_count": null,
      "outputs": [
        {
          "output_type": "stream",
          "name": "stdout",
          "text": [
            "Root Mean Squared Error (RMSE): 0.02979560147510908\n",
            "R² Score: 0.6258053838959654\n"
          ]
        }
      ]
    },
    {
      "cell_type": "markdown",
      "source": [
        "Interpretation of Model Performance\n",
        "\n",
        "✅ RMSE = 0.0298:\n",
        "\n",
        "* A lower RMSE indicates a better fit. Since Power Efficiency is a ratio (likely between 0 and 1), an RMSE of ~0.03 is reasonably low.\n",
        "\n",
        "✅ R² Score = 0.626:\n",
        "\n",
        "* This means that 62.6% of the variation in Power Efficiency is explained by the model.\n",
        "While decent, there's room for improvement."
      ],
      "metadata": {
        "id": "M6EddPbgYTqL"
      }
    },
    {
      "cell_type": "markdown",
      "source": [
        "**Build a Predictive Model using Random Forest Regressor**"
      ],
      "metadata": {
        "id": "MjJs9qovRkHS"
      }
    },
    {
      "cell_type": "code",
      "source": [
        "from pyspark.ml.regression import RandomForestRegressor\n",
        "\n",
        "rf = RandomForestRegressor(featuresCol=\"features\", labelCol=\"Power_Efficiency\", numTrees=50)\n",
        "rf_model = rf.fit(train_data)\n",
        "predictions_rf = rf_model.transform(test_data)\n",
        "\n",
        "rf_rmse = evaluator_rmse.evaluate(predictions_rf)\n",
        "rf_r2 = evaluator_r2.evaluate(predictions_rf)\n",
        "\n",
        "print(f\"Random Forest RMSE: {rf_rmse}\")\n",
        "print(f\"Random Forest R²: {rf_r2}\")\n"
      ],
      "metadata": {
        "colab": {
          "base_uri": "https://localhost:8080/"
        },
        "id": "n4a34s6aSb0a",
        "outputId": "8065ecc0-0440-49b0-a113-24d864da02b1"
      },
      "execution_count": null,
      "outputs": [
        {
          "output_type": "stream",
          "name": "stdout",
          "text": [
            "Random Forest RMSE: 0.00014409193295593562\n",
            "Random Forest R²: 0.9999912487003293\n"
          ]
        }
      ]
    },
    {
      "cell_type": "markdown",
      "source": [
        "With Random Forest Regressor, your model achieved:\n",
        "\n",
        "✅ RMSE: 0.000144 (Extremely Low Error)\n",
        "\n",
        "✅ R²: 0.99999 (Near Perfect Fit 🚀)\n",
        "\n",
        "Why is this happening?\n",
        "\n",
        "* Random Forest is excellent at capturing nonlinear relationships, and it seems to have almost perfectly mapped Power Efficiency from the given features.\n",
        "* Your dataset likely has very strong correlations between DC_POWER, AC_POWER, IRRADIATION, and Power_Efficiency, making it easier for a tree-based model to learn patterns."
      ],
      "metadata": {
        "id": "IkP_0SVkYC3b"
      }
    },
    {
      "cell_type": "code",
      "source": [
        "import pandas as pd\n",
        "\n",
        "feature_importance = rf_model.featureImportances.toArray()\n",
        "feature_names = feature_columns\n",
        "\n",
        "importance_df = pd.DataFrame({'Feature': feature_names, 'Importance': feature_importance})\n",
        "importance_df = importance_df.sort_values(by=\"Importance\", ascending=False)\n",
        "\n",
        "print(importance_df)\n"
      ],
      "metadata": {
        "colab": {
          "base_uri": "https://localhost:8080/"
        },
        "id": "aQLYO_msXJWh",
        "outputId": "a2e6e2f9-857f-49be-85ab-621b1866fb1b"
      },
      "execution_count": null,
      "outputs": [
        {
          "output_type": "stream",
          "name": "stdout",
          "text": [
            "               Feature    Importance\n",
            "0             DC_POWER  4.365613e-01\n",
            "1             AC_POWER  2.295639e-01\n",
            "6          IRRADIATION  1.937538e-01\n",
            "5   MODULE_TEMPERATURE  1.294046e-01\n",
            "4  AMBIENT_TEMPERATURE  8.441455e-03\n",
            "2          DAILY_YIELD  1.220763e-03\n",
            "7                 Hour  1.054249e-03\n",
            "3          TOTAL_YIELD  6.663397e-10\n"
          ]
        }
      ]
    },
    {
      "cell_type": "markdown",
      "source": [
        "🔍 **Feature Importance Analysis**\n",
        "\n",
        "From the importance scores, we can see which features contribute the most to predicting Power Efficiency:\n",
        "\n",
        "**Feature,\tImportance,\tInterpretation**\n",
        "\n",
        "✅ DC_POWER (0.436)\tMost Important\tDirectly impacts efficiency as it measures raw power from solar panels.\n",
        "\n",
        "✅ AC_POWER (0.229)\tHighly Important\tThe converted output power, directly affecting efficiency.\n",
        "\n",
        "✅ IRRADIATION (0.194)\tStrong Impact\tMore sunlight means more power generation, affecting efficiency.\n",
        "\n",
        "✅ MODULE_TEMPERATURE (0.129)\tModerate Impact\tHigher temperatures can reduce efficiency due to thermal losses.\n",
        "\n",
        "🔹 AMBIENT_TEMPERATURE (0.0084)\tMinor Impact\tLess direct effect than module temperature.\n",
        "\n",
        "🔹 DAILY_YIELD (0.0012)\tVery Low Impact\tCumulative measure, not directly affecting momentary efficiency.\n",
        "\n",
        "🔹 Hour of the Day (0.0010)\tMinimal Impact\tMight influence efficiency slightly based on solar position.\n",
        "\n",
        "❌ TOTAL_YIELD (≈0.0000)\tNegligible Impact\tLikely irrelevant for efficiency calculations.\n"
      ],
      "metadata": {
        "id": "-j52xGF0Xf9F"
      }
    },
    {
      "cell_type": "markdown",
      "source": [
        "**⬇️ Implement ARIMA Forecasting**"
      ],
      "metadata": {
        "id": "GUhl-eT7V3s0"
      }
    },
    {
      "cell_type": "code",
      "source": [
        "!pip install --upgrade --force-reinstall numpy==1.24.3 scipy==1.10.1 statsmodels==0.14.0"
      ],
      "metadata": {
        "colab": {
          "base_uri": "https://localhost:8080/",
          "height": 1000
        },
        "id": "T7gxBxzUsIN7",
        "outputId": "14fba980-1106-49bd-9306-9ea2a6e7bc2d"
      },
      "execution_count": null,
      "outputs": [
        {
          "output_type": "stream",
          "name": "stdout",
          "text": [
            "Collecting numpy==1.24.3\n",
            "  Downloading numpy-1.24.3-cp311-cp311-manylinux_2_17_x86_64.manylinux2014_x86_64.whl.metadata (5.6 kB)\n",
            "Collecting scipy==1.10.1\n",
            "  Downloading scipy-1.10.1-cp311-cp311-manylinux_2_17_x86_64.manylinux2014_x86_64.whl.metadata (58 kB)\n",
            "\u001b[2K     \u001b[90m━━━━━━━━━━━━━━━━━━━━━━━━━━━━━━━━━━━━━━━━\u001b[0m \u001b[32m58.9/58.9 kB\u001b[0m \u001b[31m4.1 MB/s\u001b[0m eta \u001b[36m0:00:00\u001b[0m\n",
            "\u001b[?25hCollecting statsmodels==0.14.0\n",
            "  Downloading statsmodels-0.14.0-cp311-cp311-manylinux_2_17_x86_64.manylinux2014_x86_64.whl.metadata (9.0 kB)\n",
            "Collecting pandas>=1.0 (from statsmodels==0.14.0)\n",
            "  Downloading pandas-2.2.3-cp311-cp311-manylinux_2_17_x86_64.manylinux2014_x86_64.whl.metadata (89 kB)\n",
            "\u001b[2K     \u001b[90m━━━━━━━━━━━━━━━━━━━━━━━━━━━━━━━━━━━━━━━━\u001b[0m \u001b[32m89.9/89.9 kB\u001b[0m \u001b[31m2.4 MB/s\u001b[0m eta \u001b[36m0:00:00\u001b[0m\n",
            "\u001b[?25hCollecting patsy>=0.5.2 (from statsmodels==0.14.0)\n",
            "  Downloading patsy-1.0.1-py2.py3-none-any.whl.metadata (3.3 kB)\n",
            "Collecting packaging>=21.3 (from statsmodels==0.14.0)\n",
            "  Downloading packaging-24.2-py3-none-any.whl.metadata (3.2 kB)\n",
            "Collecting python-dateutil>=2.8.2 (from pandas>=1.0->statsmodels==0.14.0)\n",
            "  Downloading python_dateutil-2.9.0.post0-py2.py3-none-any.whl.metadata (8.4 kB)\n",
            "Collecting pytz>=2020.1 (from pandas>=1.0->statsmodels==0.14.0)\n",
            "  Downloading pytz-2025.1-py2.py3-none-any.whl.metadata (22 kB)\n",
            "Collecting tzdata>=2022.7 (from pandas>=1.0->statsmodels==0.14.0)\n",
            "  Downloading tzdata-2025.2-py2.py3-none-any.whl.metadata (1.4 kB)\n",
            "Collecting six>=1.5 (from python-dateutil>=2.8.2->pandas>=1.0->statsmodels==0.14.0)\n",
            "  Downloading six-1.17.0-py2.py3-none-any.whl.metadata (1.7 kB)\n",
            "Downloading numpy-1.24.3-cp311-cp311-manylinux_2_17_x86_64.manylinux2014_x86_64.whl (17.3 MB)\n",
            "\u001b[2K   \u001b[90m━━━━━━━━━━━━━━━━━━━━━━━━━━━━━━━━━━━━━━━━\u001b[0m \u001b[32m17.3/17.3 MB\u001b[0m \u001b[31m70.8 MB/s\u001b[0m eta \u001b[36m0:00:00\u001b[0m\n",
            "\u001b[?25hDownloading scipy-1.10.1-cp311-cp311-manylinux_2_17_x86_64.manylinux2014_x86_64.whl (34.1 MB)\n",
            "\u001b[2K   \u001b[90m━━━━━━━━━━━━━━━━━━━━━━━━━━━━━━━━━━━━━━━━\u001b[0m \u001b[32m34.1/34.1 MB\u001b[0m \u001b[31m16.9 MB/s\u001b[0m eta \u001b[36m0:00:00\u001b[0m\n",
            "\u001b[?25hDownloading statsmodels-0.14.0-cp311-cp311-manylinux_2_17_x86_64.manylinux2014_x86_64.whl (10.1 MB)\n",
            "\u001b[2K   \u001b[90m━━━━━━━━━━━━━━━━━━━━━━━━━━━━━━━━━━━━━━━━\u001b[0m \u001b[32m10.1/10.1 MB\u001b[0m \u001b[31m65.0 MB/s\u001b[0m eta \u001b[36m0:00:00\u001b[0m\n",
            "\u001b[?25hDownloading packaging-24.2-py3-none-any.whl (65 kB)\n",
            "\u001b[2K   \u001b[90m━━━━━━━━━━━━━━━━━━━━━━━━━━━━━━━━━━━━━━━━\u001b[0m \u001b[32m65.5/65.5 kB\u001b[0m \u001b[31m7.7 MB/s\u001b[0m eta \u001b[36m0:00:00\u001b[0m\n",
            "\u001b[?25hDownloading pandas-2.2.3-cp311-cp311-manylinux_2_17_x86_64.manylinux2014_x86_64.whl (13.1 MB)\n",
            "\u001b[2K   \u001b[90m━━━━━━━━━━━━━━━━━━━━━━━━━━━━━━━━━━━━━━━━\u001b[0m \u001b[32m13.1/13.1 MB\u001b[0m \u001b[31m109.3 MB/s\u001b[0m eta \u001b[36m0:00:00\u001b[0m\n",
            "\u001b[?25hDownloading patsy-1.0.1-py2.py3-none-any.whl (232 kB)\n",
            "\u001b[2K   \u001b[90m━━━━━━━━━━━━━━━━━━━━━━━━━━━━━━━━━━━━━━━━\u001b[0m \u001b[32m232.9/232.9 kB\u001b[0m \u001b[31m26.5 MB/s\u001b[0m eta \u001b[36m0:00:00\u001b[0m\n",
            "\u001b[?25hDownloading python_dateutil-2.9.0.post0-py2.py3-none-any.whl (229 kB)\n",
            "\u001b[2K   \u001b[90m━━━━━━━━━━━━━━━━━━━━━━━━━━━━━━━━━━━━━━━━\u001b[0m \u001b[32m229.9/229.9 kB\u001b[0m \u001b[31m25.5 MB/s\u001b[0m eta \u001b[36m0:00:00\u001b[0m\n",
            "\u001b[?25hDownloading pytz-2025.1-py2.py3-none-any.whl (507 kB)\n",
            "\u001b[2K   \u001b[90m━━━━━━━━━━━━━━━━━━━━━━━━━━━━━━━━━━━━━━━━\u001b[0m \u001b[32m507.9/507.9 kB\u001b[0m \u001b[31m45.4 MB/s\u001b[0m eta \u001b[36m0:00:00\u001b[0m\n",
            "\u001b[?25hDownloading tzdata-2025.2-py2.py3-none-any.whl (347 kB)\n",
            "\u001b[2K   \u001b[90m━━━━━━━━━━━━━━━━━━━━━━━━━━━━━━━━━━━━━━━━\u001b[0m \u001b[32m347.8/347.8 kB\u001b[0m \u001b[31m31.5 MB/s\u001b[0m eta \u001b[36m0:00:00\u001b[0m\n",
            "\u001b[?25hDownloading six-1.17.0-py2.py3-none-any.whl (11 kB)\n",
            "Installing collected packages: pytz, tzdata, six, packaging, numpy, scipy, python-dateutil, patsy, pandas, statsmodels\n",
            "  Attempting uninstall: pytz\n",
            "    Found existing installation: pytz 2025.1\n",
            "    Uninstalling pytz-2025.1:\n",
            "      Successfully uninstalled pytz-2025.1\n",
            "  Attempting uninstall: tzdata\n",
            "    Found existing installation: tzdata 2025.1\n",
            "    Uninstalling tzdata-2025.1:\n",
            "      Successfully uninstalled tzdata-2025.1\n",
            "  Attempting uninstall: six\n",
            "    Found existing installation: six 1.17.0\n",
            "    Uninstalling six-1.17.0:\n",
            "      Successfully uninstalled six-1.17.0\n",
            "  Attempting uninstall: packaging\n",
            "    Found existing installation: packaging 24.2\n",
            "    Uninstalling packaging-24.2:\n",
            "      Successfully uninstalled packaging-24.2\n",
            "  Attempting uninstall: numpy\n",
            "    Found existing installation: numpy 2.0.2\n",
            "    Uninstalling numpy-2.0.2:\n",
            "      Successfully uninstalled numpy-2.0.2\n",
            "  Attempting uninstall: scipy\n",
            "    Found existing installation: scipy 1.14.1\n",
            "    Uninstalling scipy-1.14.1:\n",
            "      Successfully uninstalled scipy-1.14.1\n",
            "  Attempting uninstall: python-dateutil\n",
            "    Found existing installation: python-dateutil 2.8.2\n",
            "    Uninstalling python-dateutil-2.8.2:\n",
            "      Successfully uninstalled python-dateutil-2.8.2\n",
            "  Attempting uninstall: patsy\n",
            "    Found existing installation: patsy 1.0.1\n",
            "    Uninstalling patsy-1.0.1:\n",
            "      Successfully uninstalled patsy-1.0.1\n",
            "  Attempting uninstall: pandas\n",
            "    Found existing installation: pandas 2.2.2\n",
            "    Uninstalling pandas-2.2.2:\n",
            "      Successfully uninstalled pandas-2.2.2\n",
            "  Attempting uninstall: statsmodels\n",
            "    Found existing installation: statsmodels 0.14.4\n",
            "    Uninstalling statsmodels-0.14.4:\n",
            "      Successfully uninstalled statsmodels-0.14.4\n",
            "\u001b[31mERROR: pip's dependency resolver does not currently take into account all the packages that are installed. This behaviour is the source of the following dependency conflicts.\n",
            "google-colab 1.0.0 requires pandas==2.2.2, but you have pandas 2.2.3 which is incompatible.\n",
            "albumentations 2.0.5 requires numpy>=1.24.4, but you have numpy 1.24.3 which is incompatible.\n",
            "jax 0.5.2 requires numpy>=1.25, but you have numpy 1.24.3 which is incompatible.\n",
            "jax 0.5.2 requires scipy>=1.11.1, but you have scipy 1.10.1 which is incompatible.\n",
            "tensorflow 2.18.0 requires numpy<2.1.0,>=1.26.0, but you have numpy 1.24.3 which is incompatible.\n",
            "jaxlib 0.5.1 requires numpy>=1.25, but you have numpy 1.24.3 which is incompatible.\n",
            "jaxlib 0.5.1 requires scipy>=1.11.1, but you have scipy 1.10.1 which is incompatible.\n",
            "treescope 0.1.9 requires numpy>=1.25.2, but you have numpy 1.24.3 which is incompatible.\n",
            "albucore 0.0.23 requires numpy>=1.24.4, but you have numpy 1.24.3 which is incompatible.\n",
            "blosc2 3.2.0 requires numpy>=1.26, but you have numpy 1.24.3 which is incompatible.\n",
            "pymc 5.21.1 requires numpy>=1.25.0, but you have numpy 1.24.3 which is incompatible.\n",
            "scikit-image 0.25.2 requires scipy>=1.11.4, but you have scipy 1.10.1 which is incompatible.\n",
            "cvxpy 1.6.4 requires scipy>=1.11.0, but you have scipy 1.10.1 which is incompatible.\u001b[0m\u001b[31m\n",
            "\u001b[0mSuccessfully installed numpy-1.24.3 packaging-24.2 pandas-2.2.3 patsy-1.0.1 python-dateutil-2.9.0.post0 pytz-2025.1 scipy-1.10.1 six-1.17.0 statsmodels-0.14.0 tzdata-2025.2\n"
          ]
        },
        {
          "output_type": "display_data",
          "data": {
            "application/vnd.colab-display-data+json": {
              "pip_warning": {
                "packages": [
                  "dateutil",
                  "numpy",
                  "patsy",
                  "pytz",
                  "six",
                  "statsmodels"
                ]
              },
              "id": "8e9dfa645ab1436daaad1511301c60e6"
            }
          },
          "metadata": {}
        }
      ]
    },
    {
      "cell_type": "code",
      "source": [
        "!pip install pmdarima"
      ],
      "metadata": {
        "colab": {
          "base_uri": "https://localhost:8080/"
        },
        "id": "P8UKjgSeXe6R",
        "outputId": "6af0dd01-a7fa-4e4c-a83c-eef5c154a3c3"
      },
      "execution_count": null,
      "outputs": [
        {
          "output_type": "stream",
          "name": "stdout",
          "text": [
            "Requirement already satisfied: pmdarima in /usr/local/lib/python3.11/dist-packages (2.0.4)\n",
            "Requirement already satisfied: joblib>=0.11 in /usr/local/lib/python3.11/dist-packages (from pmdarima) (1.4.2)\n",
            "Requirement already satisfied: Cython!=0.29.18,!=0.29.31,>=0.29 in /usr/local/lib/python3.11/dist-packages (from pmdarima) (3.0.12)\n",
            "Requirement already satisfied: numpy>=1.21.2 in /usr/local/lib/python3.11/dist-packages (from pmdarima) (1.24.3)\n",
            "Requirement already satisfied: pandas>=0.19 in /usr/local/lib/python3.11/dist-packages (from pmdarima) (2.2.3)\n",
            "Requirement already satisfied: scikit-learn>=0.22 in /usr/local/lib/python3.11/dist-packages (from pmdarima) (1.6.1)\n",
            "Requirement already satisfied: scipy>=1.3.2 in /usr/local/lib/python3.11/dist-packages (from pmdarima) (1.10.1)\n",
            "Requirement already satisfied: statsmodels>=0.13.2 in /usr/local/lib/python3.11/dist-packages (from pmdarima) (0.14.0)\n",
            "Requirement already satisfied: urllib3 in /usr/local/lib/python3.11/dist-packages (from pmdarima) (2.3.0)\n",
            "Requirement already satisfied: setuptools!=50.0.0,>=38.6.0 in /usr/local/lib/python3.11/dist-packages (from pmdarima) (75.1.0)\n",
            "Requirement already satisfied: packaging>=17.1 in /usr/local/lib/python3.11/dist-packages (from pmdarima) (24.2)\n",
            "Requirement already satisfied: python-dateutil>=2.8.2 in /usr/local/lib/python3.11/dist-packages (from pandas>=0.19->pmdarima) (2.9.0.post0)\n",
            "Requirement already satisfied: pytz>=2020.1 in /usr/local/lib/python3.11/dist-packages (from pandas>=0.19->pmdarima) (2025.1)\n",
            "Requirement already satisfied: tzdata>=2022.7 in /usr/local/lib/python3.11/dist-packages (from pandas>=0.19->pmdarima) (2025.2)\n",
            "Requirement already satisfied: threadpoolctl>=3.1.0 in /usr/local/lib/python3.11/dist-packages (from scikit-learn>=0.22->pmdarima) (3.6.0)\n",
            "Requirement already satisfied: patsy>=0.5.2 in /usr/local/lib/python3.11/dist-packages (from statsmodels>=0.13.2->pmdarima) (1.0.1)\n",
            "Requirement already satisfied: six>=1.5 in /usr/local/lib/python3.11/dist-packages (from python-dateutil>=2.8.2->pandas>=0.19->pmdarima) (1.17.0)\n"
          ]
        }
      ]
    },
    {
      "cell_type": "code",
      "source": [
        "from pyspark.sql import SparkSession\n",
        "from pyspark.sql.functions import col\n",
        "import pandas as pd\n",
        "import matplotlib.pyplot as plt\n",
        "from statsmodels.tsa.arima.model import ARIMA\n",
        "from pmdarima import auto_arima\n",
        "from sklearn.metrics import mean_squared_error\n",
        "import numpy as np\n",
        "\n",
        "spark = SparkSession.builder.appName(\"ARIMA_Forecast\").getOrCreate()\n",
        "\n",
        "file_path = \"/content/Cleaned_Plant_Data.csv\"\n",
        "df_spark = spark.read.csv(file_path, header=True, inferSchema=True)\n",
        "\n",
        "df_pandas = df_spark.select(\"DATE_TIME\", \"DC_POWER\", \"IRRADIATION\", \"AMBIENT_TEMPERATURE\", \"MODULE_TEMPERATURE\").toPandas()\n",
        "\n",
        "df_pandas[\"DATE_TIME\"] = pd.to_datetime(df_pandas[\"DATE_TIME\"])\n",
        "df_pandas.set_index(\"DATE_TIME\", inplace=True)\n",
        "df_pandas = df_pandas.sort_index()\n",
        "\n",
        "train_size = int(len(df_pandas) * 0.8)\n",
        "train, test = df_pandas[:train_size], df_pandas[train_size:]\n",
        "\n",
        "# Auto ARIMA to find optimal (p, d, q) values with exogenous variables\n",
        "auto_model = auto_arima(train[\"DC_POWER\"], exogenous=train[[\"IRRADIATION\", \"AMBIENT_TEMPERATURE\", \"MODULE_TEMPERATURE\"]], seasonal=False, stepwise=True, suppress_warnings=True)\n",
        "p, d, q = auto_model.order\n",
        "print(f\"Optimal ARIMA Order: ({p}, {d}, {q})\")\n",
        "\n",
        "model = ARIMA(train[\"DC_POWER\"], exog=train[[\"IRRADIATION\", \"AMBIENT_TEMPERATURE\", \"MODULE_TEMPERATURE\"]], order=(p, d, q))\n",
        "model_fit = model.fit()\n",
        "\n",
        "predictions = model_fit.forecast(steps=len(test), exog=test[[\"IRRADIATION\", \"AMBIENT_TEMPERATURE\", \"MODULE_TEMPERATURE\"]])\n",
        "rmse = np.sqrt(mean_squared_error(test[\"DC_POWER\"], predictions))\n",
        "print(f\"RMSE: {rmse}\")\n",
        "\n",
        "# Plot actual vs predicted\n",
        "plt.figure(figsize=(12, 6))\n",
        "plt.plot(test.index, test[\"DC_POWER\"], label=\"Actual\")\n",
        "plt.plot(test.index, predictions, label=\"Predicted\", linestyle='dashed')\n",
        "plt.legend()\n",
        "plt.title(\"ARIMA Forecast of DC_POWER with External Factors\")\n",
        "plt.show()\n",
        "\n",
        "spark.stop()\n",
        "\n",
        "# this code had RMSE: 603.7124362699404"
      ],
      "metadata": {
        "id": "YgpaNh0obdgB"
      },
      "execution_count": null,
      "outputs": []
    },
    {
      "cell_type": "code",
      "source": [
        "from pyspark.sql import SparkSession\n",
        "from pyspark.sql.functions import col\n",
        "import pandas as pd\n",
        "import matplotlib.pyplot as plt\n",
        "from statsmodels.tsa.arima.model import ARIMA\n",
        "from pmdarima import auto_arima\n",
        "from sklearn.metrics import mean_squared_error\n",
        "import numpy as np\n",
        "\n",
        "spark = SparkSession.builder.appName(\"ARIMA_Forecast\").getOrCreate()\n",
        "\n",
        "file_path = \"/content/Cleaned_Plant_Data.csv\"\n",
        "df_spark = spark.read.csv(file_path, header=True, inferSchema=True)\n",
        "\n",
        "df_pandas = df_spark.select(\"DATE_TIME\", \"DC_POWER\", \"IRRADIATION\", \"AMBIENT_TEMPERATURE\", \"MODULE_TEMPERATURE\").toPandas()\n",
        "\n",
        "df_pandas[\"DATE_TIME\"] = pd.to_datetime(df_pandas[\"DATE_TIME\"])\n",
        "df_pandas.set_index(\"DATE_TIME\", inplace=True)\n",
        "df_pandas = df_pandas.sort_index()\n",
        "\n",
        "# Use only the last (mentioned) rows for faster computation\n",
        "df_pandas = df_pandas.tail(5000)\n",
        "\n",
        "# Split into train/test\n",
        "train_size = int(len(df_pandas) * 0.8)\n",
        "train, test = df_pandas[:train_size], df_pandas[train_size:]\n",
        "print(\"✅ Data Loaded & Split!\")\n",
        "\n",
        "auto_model = auto_arima(train[\"DC_POWER\"], exogenous=train[[\"IRRADIATION\", \"AMBIENT_TEMPERATURE\", \"MODULE_TEMPERATURE\"]], seasonal=False, stepwise=True, suppress_warnings=True)\n",
        "p_best, d_best, q_best = auto_model.order\n",
        "print(f\"✅ Auto ARIMA Suggested: ({p_best}, {d_best}, {q_best})\")\n",
        "\n",
        "model = ARIMA(train[\"DC_POWER\"], exog=train[[\"IRRADIATION\", \"AMBIENT_TEMPERATURE\", \"MODULE_TEMPERATURE\"]], order=(p_best, d_best, q_best))\n",
        "model_fit = model.fit()\n",
        "print(\"✅ Model Training Complete!\")\n",
        "\n",
        "predictions = model_fit.forecast(steps=len(test), exog=test[[\"IRRADIATION\", \"AMBIENT_TEMPERATURE\", \"MODULE_TEMPERATURE\"]])\n",
        "rmse = np.sqrt(mean_squared_error(test[\"DC_POWER\"], predictions))\n",
        "print(f\"✅ Final RMSE: {rmse}\")\n",
        "\n",
        "plt.figure(figsize=(12, 6))\n",
        "plt.plot(test.index, test[\"DC_POWER\"], label=\"Actual\")\n",
        "plt.plot(test.index, predictions, label=\"Predicted\", linestyle='dashed')\n",
        "plt.legend()\n",
        "plt.title(\"Optimized ARIMA Forecast of DC_POWER with External Factors\")\n",
        "plt.show()\n",
        "\n",
        "# Stop Spark session\n",
        "spark.stop()\n",
        "print(\"✅ Spark Session Stopped!\")\n"
      ],
      "metadata": {
        "colab": {
          "base_uri": "https://localhost:8080/",
          "height": 1000
        },
        "id": "Z20YlpVmWIXz",
        "outputId": "256d7bb4-4491-4b2c-ae80-dea6fa5e4369"
      },
      "execution_count": null,
      "outputs": [
        {
          "output_type": "stream",
          "name": "stdout",
          "text": [
            "✅ Data Loaded & Split!\n"
          ]
        },
        {
          "output_type": "stream",
          "name": "stderr",
          "text": [
            "/usr/local/lib/python3.11/dist-packages/sklearn/utils/deprecation.py:151: FutureWarning: 'force_all_finite' was renamed to 'ensure_all_finite' in 1.6 and will be removed in 1.8.\n",
            "  warnings.warn(\n",
            "/usr/local/lib/python3.11/dist-packages/sklearn/utils/deprecation.py:151: FutureWarning: 'force_all_finite' was renamed to 'ensure_all_finite' in 1.6 and will be removed in 1.8.\n",
            "  warnings.warn(\n",
            "/usr/local/lib/python3.11/dist-packages/sklearn/utils/deprecation.py:151: FutureWarning: 'force_all_finite' was renamed to 'ensure_all_finite' in 1.6 and will be removed in 1.8.\n",
            "  warnings.warn(\n",
            "/usr/local/lib/python3.11/dist-packages/sklearn/utils/deprecation.py:151: FutureWarning: 'force_all_finite' was renamed to 'ensure_all_finite' in 1.6 and will be removed in 1.8.\n",
            "  warnings.warn(\n",
            "/usr/local/lib/python3.11/dist-packages/sklearn/utils/deprecation.py:151: FutureWarning: 'force_all_finite' was renamed to 'ensure_all_finite' in 1.6 and will be removed in 1.8.\n",
            "  warnings.warn(\n",
            "/usr/local/lib/python3.11/dist-packages/sklearn/utils/deprecation.py:151: FutureWarning: 'force_all_finite' was renamed to 'ensure_all_finite' in 1.6 and will be removed in 1.8.\n",
            "  warnings.warn(\n",
            "/usr/local/lib/python3.11/dist-packages/sklearn/utils/deprecation.py:151: FutureWarning: 'force_all_finite' was renamed to 'ensure_all_finite' in 1.6 and will be removed in 1.8.\n",
            "  warnings.warn(\n",
            "/usr/local/lib/python3.11/dist-packages/sklearn/utils/deprecation.py:151: FutureWarning: 'force_all_finite' was renamed to 'ensure_all_finite' in 1.6 and will be removed in 1.8.\n",
            "  warnings.warn(\n",
            "/usr/local/lib/python3.11/dist-packages/sklearn/utils/deprecation.py:151: FutureWarning: 'force_all_finite' was renamed to 'ensure_all_finite' in 1.6 and will be removed in 1.8.\n",
            "  warnings.warn(\n",
            "/usr/local/lib/python3.11/dist-packages/sklearn/utils/deprecation.py:151: FutureWarning: 'force_all_finite' was renamed to 'ensure_all_finite' in 1.6 and will be removed in 1.8.\n",
            "  warnings.warn(\n",
            "/usr/local/lib/python3.11/dist-packages/sklearn/utils/deprecation.py:151: FutureWarning: 'force_all_finite' was renamed to 'ensure_all_finite' in 1.6 and will be removed in 1.8.\n",
            "  warnings.warn(\n",
            "/usr/local/lib/python3.11/dist-packages/sklearn/utils/deprecation.py:151: FutureWarning: 'force_all_finite' was renamed to 'ensure_all_finite' in 1.6 and will be removed in 1.8.\n",
            "  warnings.warn(\n",
            "/usr/local/lib/python3.11/dist-packages/sklearn/utils/deprecation.py:151: FutureWarning: 'force_all_finite' was renamed to 'ensure_all_finite' in 1.6 and will be removed in 1.8.\n",
            "  warnings.warn(\n",
            "/usr/local/lib/python3.11/dist-packages/sklearn/utils/deprecation.py:151: FutureWarning: 'force_all_finite' was renamed to 'ensure_all_finite' in 1.6 and will be removed in 1.8.\n",
            "  warnings.warn(\n",
            "/usr/local/lib/python3.11/dist-packages/sklearn/utils/deprecation.py:151: FutureWarning: 'force_all_finite' was renamed to 'ensure_all_finite' in 1.6 and will be removed in 1.8.\n",
            "  warnings.warn(\n",
            "/usr/local/lib/python3.11/dist-packages/sklearn/utils/deprecation.py:151: FutureWarning: 'force_all_finite' was renamed to 'ensure_all_finite' in 1.6 and will be removed in 1.8.\n",
            "  warnings.warn(\n",
            "/usr/local/lib/python3.11/dist-packages/sklearn/utils/deprecation.py:151: FutureWarning: 'force_all_finite' was renamed to 'ensure_all_finite' in 1.6 and will be removed in 1.8.\n",
            "  warnings.warn(\n",
            "/usr/local/lib/python3.11/dist-packages/sklearn/utils/deprecation.py:151: FutureWarning: 'force_all_finite' was renamed to 'ensure_all_finite' in 1.6 and will be removed in 1.8.\n",
            "  warnings.warn(\n",
            "/usr/local/lib/python3.11/dist-packages/sklearn/utils/deprecation.py:151: FutureWarning: 'force_all_finite' was renamed to 'ensure_all_finite' in 1.6 and will be removed in 1.8.\n",
            "  warnings.warn(\n",
            "/usr/local/lib/python3.11/dist-packages/sklearn/utils/deprecation.py:151: FutureWarning: 'force_all_finite' was renamed to 'ensure_all_finite' in 1.6 and will be removed in 1.8.\n",
            "  warnings.warn(\n",
            "/usr/local/lib/python3.11/dist-packages/sklearn/utils/deprecation.py:151: FutureWarning: 'force_all_finite' was renamed to 'ensure_all_finite' in 1.6 and will be removed in 1.8.\n",
            "  warnings.warn(\n",
            "/usr/local/lib/python3.11/dist-packages/sklearn/utils/deprecation.py:151: FutureWarning: 'force_all_finite' was renamed to 'ensure_all_finite' in 1.6 and will be removed in 1.8.\n",
            "  warnings.warn(\n",
            "/usr/local/lib/python3.11/dist-packages/sklearn/utils/deprecation.py:151: FutureWarning: 'force_all_finite' was renamed to 'ensure_all_finite' in 1.6 and will be removed in 1.8.\n",
            "  warnings.warn(\n",
            "/usr/local/lib/python3.11/dist-packages/sklearn/utils/deprecation.py:151: FutureWarning: 'force_all_finite' was renamed to 'ensure_all_finite' in 1.6 and will be removed in 1.8.\n",
            "  warnings.warn(\n",
            "/usr/local/lib/python3.11/dist-packages/sklearn/utils/deprecation.py:151: FutureWarning: 'force_all_finite' was renamed to 'ensure_all_finite' in 1.6 and will be removed in 1.8.\n",
            "  warnings.warn(\n",
            "/usr/local/lib/python3.11/dist-packages/sklearn/utils/deprecation.py:151: FutureWarning: 'force_all_finite' was renamed to 'ensure_all_finite' in 1.6 and will be removed in 1.8.\n",
            "  warnings.warn(\n",
            "/usr/local/lib/python3.11/dist-packages/sklearn/utils/deprecation.py:151: FutureWarning: 'force_all_finite' was renamed to 'ensure_all_finite' in 1.6 and will be removed in 1.8.\n",
            "  warnings.warn(\n",
            "/usr/local/lib/python3.11/dist-packages/sklearn/utils/deprecation.py:151: FutureWarning: 'force_all_finite' was renamed to 'ensure_all_finite' in 1.6 and will be removed in 1.8.\n",
            "  warnings.warn(\n",
            "/usr/local/lib/python3.11/dist-packages/sklearn/utils/deprecation.py:151: FutureWarning: 'force_all_finite' was renamed to 'ensure_all_finite' in 1.6 and will be removed in 1.8.\n",
            "  warnings.warn(\n",
            "/usr/local/lib/python3.11/dist-packages/sklearn/utils/deprecation.py:151: FutureWarning: 'force_all_finite' was renamed to 'ensure_all_finite' in 1.6 and will be removed in 1.8.\n",
            "  warnings.warn(\n",
            "/usr/local/lib/python3.11/dist-packages/sklearn/utils/deprecation.py:151: FutureWarning: 'force_all_finite' was renamed to 'ensure_all_finite' in 1.6 and will be removed in 1.8.\n",
            "  warnings.warn(\n",
            "/usr/local/lib/python3.11/dist-packages/sklearn/utils/deprecation.py:151: FutureWarning: 'force_all_finite' was renamed to 'ensure_all_finite' in 1.6 and will be removed in 1.8.\n",
            "  warnings.warn(\n",
            "/usr/local/lib/python3.11/dist-packages/sklearn/utils/deprecation.py:151: FutureWarning: 'force_all_finite' was renamed to 'ensure_all_finite' in 1.6 and will be removed in 1.8.\n",
            "  warnings.warn(\n",
            "/usr/local/lib/python3.11/dist-packages/sklearn/utils/deprecation.py:151: FutureWarning: 'force_all_finite' was renamed to 'ensure_all_finite' in 1.6 and will be removed in 1.8.\n",
            "  warnings.warn(\n",
            "/usr/local/lib/python3.11/dist-packages/sklearn/utils/deprecation.py:151: FutureWarning: 'force_all_finite' was renamed to 'ensure_all_finite' in 1.6 and will be removed in 1.8.\n",
            "  warnings.warn(\n",
            "/usr/local/lib/python3.11/dist-packages/sklearn/utils/deprecation.py:151: FutureWarning: 'force_all_finite' was renamed to 'ensure_all_finite' in 1.6 and will be removed in 1.8.\n",
            "  warnings.warn(\n",
            "/usr/local/lib/python3.11/dist-packages/sklearn/utils/deprecation.py:151: FutureWarning: 'force_all_finite' was renamed to 'ensure_all_finite' in 1.6 and will be removed in 1.8.\n",
            "  warnings.warn(\n",
            "/usr/local/lib/python3.11/dist-packages/sklearn/utils/deprecation.py:151: FutureWarning: 'force_all_finite' was renamed to 'ensure_all_finite' in 1.6 and will be removed in 1.8.\n",
            "  warnings.warn(\n",
            "/usr/local/lib/python3.11/dist-packages/sklearn/utils/deprecation.py:151: FutureWarning: 'force_all_finite' was renamed to 'ensure_all_finite' in 1.6 and will be removed in 1.8.\n",
            "  warnings.warn(\n",
            "/usr/local/lib/python3.11/dist-packages/sklearn/utils/deprecation.py:151: FutureWarning: 'force_all_finite' was renamed to 'ensure_all_finite' in 1.6 and will be removed in 1.8.\n",
            "  warnings.warn(\n",
            "/usr/local/lib/python3.11/dist-packages/sklearn/utils/deprecation.py:151: FutureWarning: 'force_all_finite' was renamed to 'ensure_all_finite' in 1.6 and will be removed in 1.8.\n",
            "  warnings.warn(\n"
          ]
        },
        {
          "output_type": "stream",
          "name": "stdout",
          "text": [
            "✅ Auto ARIMA Suggested: (4, 1, 5)\n"
          ]
        },
        {
          "output_type": "stream",
          "name": "stderr",
          "text": [
            "/usr/local/lib/python3.11/dist-packages/statsmodels/tsa/base/tsa_model.py:473: ValueWarning: A date index has been provided, but it has no associated frequency information and so will be ignored when e.g. forecasting.\n",
            "  self._init_dates(dates, freq)\n",
            "/usr/local/lib/python3.11/dist-packages/statsmodels/tsa/base/tsa_model.py:473: ValueWarning: A date index has been provided, but it has no associated frequency information and so will be ignored when e.g. forecasting.\n",
            "  self._init_dates(dates, freq)\n",
            "/usr/local/lib/python3.11/dist-packages/statsmodels/tsa/base/tsa_model.py:473: ValueWarning: A date index has been provided, but it has no associated frequency information and so will be ignored when e.g. forecasting.\n",
            "  self._init_dates(dates, freq)\n",
            "/usr/local/lib/python3.11/dist-packages/statsmodels/base/model.py:607: ConvergenceWarning: Maximum Likelihood optimization failed to converge. Check mle_retvals\n",
            "  warnings.warn(\"Maximum Likelihood optimization failed to \"\n"
          ]
        },
        {
          "output_type": "stream",
          "name": "stdout",
          "text": [
            "✅ Model Training Complete!\n",
            "✅ Final RMSE: 1952.5678490475898\n"
          ]
        },
        {
          "output_type": "stream",
          "name": "stderr",
          "text": [
            "/usr/local/lib/python3.11/dist-packages/statsmodels/tsa/base/tsa_model.py:836: ValueWarning: No supported index is available. Prediction results will be given with an integer index beginning at `start`.\n",
            "  return get_prediction_index(\n",
            "/usr/local/lib/python3.11/dist-packages/statsmodels/tsa/base/tsa_model.py:836: FutureWarning: No supported index is available. In the next version, calling this method in a model without a supported index will result in an exception.\n",
            "  return get_prediction_index(\n"
          ]
        },
        {
          "output_type": "display_data",
          "data": {
            "text/plain": [
              "<Figure size 1200x600 with 1 Axes>"
            ],
            "image/png": "[encoded data removed]"
          },
          "metadata": {}
        },
        {
          "output_type": "stream",
          "name": "stdout",
          "text": [
            "✅ Spark Session Stopped!\n"
          ]
        }
      ]
    },
    {
      "cell_type": "markdown",
      "source": [
        "**⬇️ Gradient Boosting Classifier**"
      ],
      "metadata": {
        "id": "SFslQDe8duJC"
      }
    },
    {
      "cell_type": "code",
      "source": [
        "from pyspark.sql import SparkSession\n",
        "from pyspark.sql.functions import col, when\n",
        "from pyspark.ml.feature import VectorAssembler, StringIndexer\n",
        "from pyspark.ml.classification import GBTClassifier\n",
        "from pyspark.ml.evaluation import MulticlassClassificationEvaluator\n",
        "\n",
        "# Initialize Spark Session\n",
        "spark = SparkSession.builder.appName(\"GradientBoosting_Classifier\").getOrCreate()\n",
        "\n",
        "# Load Dataset\n",
        "file_path = \"/content/Cleaned_Plant_Data.csv\"\n",
        "df = spark.read.csv(file_path, header=True, inferSchema=True)\n",
        "\n",
        "# Select Features and Target\n",
        "df = df.select(\"DC_POWER\", \"IRRADIATION\", \"AMBIENT_TEMPERATURE\", \"MODULE_TEMPERATURE\")\n",
        "\n",
        "# Convert DC_POWER into a Binary Classification Label (High=1, Low=0)\n",
        "threshold = df.approxQuantile(\"DC_POWER\", [0.5], 0.01)[0]  # Median value as threshold\n",
        "df = df.withColumn(\"label\", when(col(\"DC_POWER\") > threshold, 1).otherwise(0))\n",
        "\n",
        "# Prepare Features\n",
        "assembler = VectorAssembler(inputCols=[\"IRRADIATION\", \"AMBIENT_TEMPERATURE\", \"MODULE_TEMPERATURE\"], outputCol=\"features\")\n",
        "df = assembler.transform(df).select(\"features\", \"label\")\n",
        "\n",
        "# Split Data (80% Train, 20% Test)\n",
        "train, test = df.randomSplit([0.8, 0.2], seed=42)\n",
        "\n",
        "# Define Gradient Boosted Classifier\n",
        "gbt = GBTClassifier(labelCol=\"label\", featuresCol=\"features\", maxIter=50)\n",
        "\n",
        "# Train the Model\n",
        "model = gbt.fit(train)\n",
        "\n",
        "# Predictions\n",
        "predictions = model.transform(test)\n",
        "\n",
        "# Evaluate Model Performance\n",
        "evaluator = MulticlassClassificationEvaluator(labelCol=\"label\", predictionCol=\"prediction\", metricName=\"accuracy\")\n",
        "accuracy = evaluator.evaluate(predictions)\n",
        "print(f\"✅ Model Accuracy: {accuracy:.4f}\")\n",
        "\n",
        "# Stop Spark Session\n",
        "spark.stop()\n"
      ],
      "metadata": {
        "colab": {
          "base_uri": "https://localhost:8080/"
        },
        "id": "EaLHsgjVdq_0",
        "outputId": "a6540f9e-0fe1-4025-d8bb-7af3ef7a82ee"
      },
      "execution_count": null,
      "outputs": [
        {
          "output_type": "stream",
          "name": "stdout",
          "text": [
            "✅ Model Accuracy: 0.9926\n"
          ]
        }
      ]
    }
  ]
}