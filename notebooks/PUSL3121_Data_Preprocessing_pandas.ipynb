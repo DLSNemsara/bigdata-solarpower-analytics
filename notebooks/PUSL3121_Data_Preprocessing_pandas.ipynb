{
  "nbformat": 4,
  "nbformat_minor": 0,
  "metadata": {
    "colab": {
      "provenance": []
    },
    "kernelspec": {
      "name": "python3",
      "display_name": "Python 3"
    },
    "language_info": {
      "name": "python"
    }
  },
  "cells": [
    {
      "cell_type": "code",
      "execution_count": null,
      "metadata": {
        "colab": {
          "base_uri": "https://localhost:8080/"
        },
        "id": "En_HIE4suu88",
        "outputId": "51695bd5-4e77-4e7e-ffc0-6d7d656a8fc3"
      },
      "outputs": [
        {
          "output_type": "stream",
          "name": "stdout",
          "text": [
            "0   2020-05-15 00:00:00\n",
            "1   2020-05-15 00:15:00\n",
            "2   2020-05-15 00:30:00\n",
            "3   2020-05-15 00:45:00\n",
            "4   2020-05-15 01:00:00\n",
            "Name: DATE_TIME, dtype: datetime64[ns]\n",
            "0   2020-05-15\n",
            "1   2020-05-15\n",
            "2   2020-05-15\n",
            "3   2020-05-15\n",
            "4   2020-05-15\n",
            "Name: DATE_TIME, dtype: datetime64[ns]\n"
          ]
        }
      ],
      "source": [
        "import pandas as pd\n",
        "\n",
        "weather_data = pd.read_csv(\"/content/Plant_1_Weather_Sensor_Data.csv\")\n",
        "generation_data = pd.read_csv(\"/content/Plant_1_Generation_Data.csv\")\n",
        "\n",
        "# Convert DATE_TIME column to standard format\n",
        "weather_data[\"DATE_TIME\"] = pd.to_datetime(weather_data[\"DATE_TIME\"], format=\"%m/%d/%Y %H:%M\")\n",
        "generation_data[\"DATE_TIME\"] = pd.to_datetime(generation_data[\"DATE_TIME\"], format=\"%d-%m-%Y %H:%M\")\n",
        "\n",
        "print(weather_data[\"DATE_TIME\"].head())\n",
        "print(generation_data[\"DATE_TIME\"].head())\n"
      ]
    },
    {
      "cell_type": "markdown",
      "source": [
        "⬆️ Data Loading – Read and combined generation & weather datasets."
      ],
      "metadata": {
        "id": "MDd3qRfczEM-"
      }
    },
    {
      "cell_type": "code",
      "source": [
        "# Merge datasets on DATE_TIME and PLANT_ID\n",
        "merged_data = pd.merge(generation_data, weather_data, on=[\"DATE_TIME\", \"PLANT_ID\"], how=\"inner\")\n",
        "\n",
        "print(merged_data.head())\n",
        "\n",
        "merged_data.to_csv(\"Merged_Plant_Data.csv\", index=False)\n"
      ],
      "metadata": {
        "colab": {
          "base_uri": "https://localhost:8080/"
        },
        "id": "210HO3N7wBuU",
        "outputId": "7efe05cd-557c-4aa7-de7e-3bae40a6ccdf"
      },
      "execution_count": null,
      "outputs": [
        {
          "output_type": "stream",
          "name": "stdout",
          "text": [
            "   DATE_TIME  PLANT_ID     SOURCE_KEY_x  DC_POWER  AC_POWER  DAILY_YIELD  \\\n",
            "0 2020-05-15   4135001  1BY6WEcLGh8j5v7       0.0       0.0          0.0   \n",
            "1 2020-05-15   4135001  1IF53ai7Xc0U56Y       0.0       0.0          0.0   \n",
            "2 2020-05-15   4135001  3PZuoBAID5Wc2HD       0.0       0.0          0.0   \n",
            "3 2020-05-15   4135001  7JYdWkrLSPkdwr4       0.0       0.0          0.0   \n",
            "4 2020-05-15   4135001  McdE0feGgRqW7Ca       0.0       0.0          0.0   \n",
            "\n",
            "   TOTAL_YIELD     SOURCE_KEY_y  AMBIENT_TEMPERATURE  MODULE_TEMPERATURE  \\\n",
            "0    6259559.0  HmiyD2TTLFNqkNe            25.184316           22.857507   \n",
            "1    6183645.0  HmiyD2TTLFNqkNe            25.184316           22.857507   \n",
            "2    6987759.0  HmiyD2TTLFNqkNe            25.184316           22.857507   \n",
            "3    7602960.0  HmiyD2TTLFNqkNe            25.184316           22.857507   \n",
            "4    7158964.0  HmiyD2TTLFNqkNe            25.184316           22.857507   \n",
            "\n",
            "   IRRADIATION  \n",
            "0          0.0  \n",
            "1          0.0  \n",
            "2          0.0  \n",
            "3          0.0  \n",
            "4          0.0  \n"
          ]
        }
      ]
    },
    {
      "cell_type": "code",
      "source": [
        "print(merged_data.isnull().sum())\n"
      ],
      "metadata": {
        "colab": {
          "base_uri": "https://localhost:8080/"
        },
        "id": "Mo5lDLZ7xhXV",
        "outputId": "cf7304f4-5180-4d86-b5f2-5f0fc2c7a0fa"
      },
      "execution_count": null,
      "outputs": [
        {
          "output_type": "stream",
          "name": "stdout",
          "text": [
            "DATE_TIME              0\n",
            "PLANT_ID               0\n",
            "SOURCE_KEY_x           0\n",
            "DC_POWER               0\n",
            "AC_POWER               0\n",
            "DAILY_YIELD            0\n",
            "TOTAL_YIELD            0\n",
            "SOURCE_KEY_y           0\n",
            "AMBIENT_TEMPERATURE    0\n",
            "MODULE_TEMPERATURE     0\n",
            "IRRADIATION            0\n",
            "dtype: int64\n"
          ]
        }
      ]
    },
    {
      "cell_type": "code",
      "source": [
        "print(merged_data[['DC_POWER', 'AC_POWER']].describe())\n"
      ],
      "metadata": {
        "colab": {
          "base_uri": "https://localhost:8080/"
        },
        "id": "teq-inJLyXRH",
        "outputId": "a9c68d56-ac3d-41c3-db38-b2cffdc89ad8"
      },
      "execution_count": null,
      "outputs": [
        {
          "output_type": "stream",
          "name": "stdout",
          "text": [
            "           DC_POWER      AC_POWER\n",
            "count  68774.000000  68774.000000\n",
            "mean    3147.177450    307.778375\n",
            "std     4036.441826    394.394865\n",
            "min        0.000000      0.000000\n",
            "25%        0.000000      0.000000\n",
            "50%      428.571429     41.450000\n",
            "75%     6365.468750    623.561161\n",
            "max    14471.125000   1410.950000\n"
          ]
        }
      ]
    },
    {
      "cell_type": "code",
      "source": [
        "zero_dc = (merged_data[\"DC_POWER\"] == 0).sum()\n",
        "zero_ac = (merged_data[\"AC_POWER\"] == 0).sum()\n",
        "zero_ac = (merged_data[\"TOTAL_YIELD\"] == 0).sum()\n",
        "zero_ac = (merged_data[\"IRRADIATION\"] == 0).sum()\n",
        "\n",
        "print(f\"Zero DC Power: {zero_dc} instances\")\n",
        "print(f\"Zero AC Power: {zero_ac} instances\")\n",
        "print(f\"Zero Total yeild: {zero_ac} instances\")\n",
        "print(f\"Zero Irradiation: {zero_ac} instances\")\n"
      ],
      "metadata": {
        "colab": {
          "base_uri": "https://localhost:8080/"
        },
        "id": "veOtYRHWypTf",
        "outputId": "53dac09c-4800-4f03-f77e-ebbd526f13cc"
      },
      "execution_count": null,
      "outputs": [
        {
          "output_type": "stream",
          "name": "stdout",
          "text": [
            "Zero DC Power: 31951 instances\n",
            "Zero AC Power: 30398 instances\n",
            "Zero Total yeild: 30398 instances\n",
            "Zero Irradiation: 30398 instances\n"
          ]
        }
      ]
    },
    {
      "cell_type": "markdown",
      "source": [
        "⬇️ Data Cleansing – Standardized DATE_TIME, removed redundant columns, and analyzed zero values."
      ],
      "metadata": {
        "id": "nbm_gQQVzVuC"
      }
    },
    {
      "cell_type": "code",
      "source": [
        "import pandas as pd\n",
        "\n",
        "# Extract hour from DATE_TIME\n",
        "merged_data[\"Hour\"] = merged_data[\"DATE_TIME\"].dt.hour\n",
        "\n",
        "columns_to_check = [\"DC_POWER\", \"AC_POWER\", \"TOTAL_YIELD\", \"IRRADIATION\"]\n",
        "\n",
        "# Count zero values per hour\n",
        "zero_summary = merged_data[merged_data[columns_to_check].eq(0).any(axis=1)]\n",
        "zero_count_by_hour = zero_summary.groupby(\"Hour\")[columns_to_check].count()\n",
        "\n",
        "print(zero_count_by_hour)\n"
      ],
      "metadata": {
        "colab": {
          "base_uri": "https://localhost:8080/"
        },
        "id": "-1RAUMcPzdG4",
        "outputId": "e313a80b-dacf-4e96-e8dc-41b3d5a88e6b"
      },
      "execution_count": null,
      "outputs": [
        {
          "output_type": "stream",
          "name": "stdout",
          "text": [
            "      DC_POWER  AC_POWER  TOTAL_YIELD  IRRADIATION\n",
            "Hour                                              \n",
            "0         2724      2724         2724         2724\n",
            "1         2726      2726         2726         2726\n",
            "2         2810      2810         2810         2810\n",
            "3         2812      2812         2812         2812\n",
            "4         2815      2815         2815         2815\n",
            "5         2707      2707         2707         2707\n",
            "6          138       138          138          138\n",
            "9            2         2            2            2\n",
            "10           2         2            2            2\n",
            "11           6         6            6            6\n",
            "12          19        19           19           19\n",
            "13          27        27           27           27\n",
            "14           6         6            6            6\n",
            "15           1         1            1            1\n",
            "18         903       903          903          903\n",
            "19        2669      2669         2669         2669\n",
            "20        2924      2924         2924         2924\n",
            "21        2962      2962         2962         2962\n",
            "22        2948      2948         2948         2948\n",
            "23        2750      2750         2750         2750\n"
          ]
        }
      ]
    },
    {
      "cell_type": "markdown",
      "source": [
        "We have added a new column by extracting Hour from DATE_TIME.\n",
        "\n",
        "This Will Show\n",
        "*  A table with hours (0-23) as rows.\n",
        "*  Counts of how many times each column had zero values at that hour.\n",
        "\n",
        "Based on these result, most zero values appear at night (0:00 - 6:00, 18:00 - 23:00) and during some early morning or late afternoon hours when sunlight is weaker. This is expected for a solar power plant because:\n",
        "\n",
        "*   Nighttime (0:00 - 6:00, 19:00 - 23:00) → No sunlight → No power generation, no irradiation ✅\n",
        "*   Early morning (6:00 - 9:00) & late afternoon (15:00 - 18:00) → Low sunlight → Some zeros, but should be minimal\n",
        "*   Daytime (10:00 - 14:00) → Few zeros → Good! Power is being generated ✅\n",
        "\n",
        "What This Means for Data Cleaning\n",
        "\n",
        "\n",
        "1.   Zeros at night (expected) → No need to remove them.\n",
        "2.   Zeros during daylight (rare, but exists)\n",
        " *   Might be temporary weather conditions (e.g., clouds, rain).\n",
        " *   Might indicate sensor faults (unlikely, but possible).\n",
        " *   Since very few zeros appear between 9:00 - 15:00, it’s not a major issue.\n",
        "\n",
        "\n",
        "\n",
        "\n",
        "\n",
        "\n",
        "\n"
      ],
      "metadata": {
        "id": "lMQp_YsP17xl"
      }
    },
    {
      "cell_type": "code",
      "source": [
        "# Drop SOURCE_KEY and PLANT_ID columns\n",
        "merged_data = merged_data.drop(columns=[\"SOURCE_KEY_x\", \"SOURCE_KEY_y\", \"PLANT_ID\"])\n",
        "\n",
        "print(merged_data.head())\n",
        "\n",
        "merged_data.to_csv(\"Cleaned_Plant_Data.csv\", index=False)\n"
      ],
      "metadata": {
        "colab": {
          "base_uri": "https://localhost:8080/"
        },
        "id": "meGwNu1PwV-K",
        "outputId": "82903bb9-d55a-4c55-d468-e4ea9a1db43b"
      },
      "execution_count": null,
      "outputs": [
        {
          "output_type": "stream",
          "name": "stdout",
          "text": [
            "   DATE_TIME  DC_POWER  AC_POWER  DAILY_YIELD  TOTAL_YIELD  \\\n",
            "0 2020-05-15       0.0       0.0          0.0    6259559.0   \n",
            "1 2020-05-15       0.0       0.0          0.0    6183645.0   \n",
            "2 2020-05-15       0.0       0.0          0.0    6987759.0   \n",
            "3 2020-05-15       0.0       0.0          0.0    7602960.0   \n",
            "4 2020-05-15       0.0       0.0          0.0    7158964.0   \n",
            "\n",
            "   AMBIENT_TEMPERATURE  MODULE_TEMPERATURE  IRRADIATION  Hour  \n",
            "0            25.184316           22.857507          0.0     0  \n",
            "1            25.184316           22.857507          0.0     0  \n",
            "2            25.184316           22.857507          0.0     0  \n",
            "3            25.184316           22.857507          0.0     0  \n",
            "4            25.184316           22.857507          0.0     0  \n"
          ]
        }
      ]
    },
    {
      "cell_type": "markdown",
      "source": [
        "What Below Code Does\n",
        "* Adds Power_Efficiency = AC_POWER / DC_POWER\n",
        "* Handles division by zero (fills NaN with 0)\n",
        "\n",
        "This is a column we additionaly added using columns AC_POWER & DC_POWER"
      ],
      "metadata": {
        "id": "HuSTOJYil_T3"
      }
    },
    {
      "cell_type": "code",
      "source": [
        "import pandas as pd\n",
        "\n",
        "df = pd.read_csv(\"Cleaned_Plant_Data.csv\")\n",
        "\n",
        "# Compute Power Efficiency (handling division by zero)\n",
        "df[\"Power_Efficiency\"] = df[\"AC_POWER\"] / df[\"DC_POWER\"]\n",
        "df[\"Power_Efficiency\"] = df[\"Power_Efficiency\"].fillna(0)\n",
        "\n",
        "df.to_csv(\"Cleaned_Plant_Data.csv\", index=False)\n",
        "\n",
        "print(\"Power_Efficiency column added successfully!\")\n"
      ],
      "metadata": {
        "colab": {
          "base_uri": "https://localhost:8080/"
        },
        "id": "IEw1YVtfV1ZJ",
        "outputId": "9b5a9b6d-1d94-4b2b-83dd-abbf093b9a49"
      },
      "execution_count": null,
      "outputs": [
        {
          "output_type": "stream",
          "name": "stdout",
          "text": [
            "Power_Efficiency column added successfully!\n"
          ]
        }
      ]
    }
  ]
}